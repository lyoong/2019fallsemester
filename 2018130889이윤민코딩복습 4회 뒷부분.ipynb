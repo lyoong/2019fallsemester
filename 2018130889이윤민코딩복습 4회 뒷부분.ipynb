{
 "cells": [
  {
   "cell_type": "markdown",
   "metadata": {},
   "source": [
    "10월12일 part8 복습 (syntax file참고)"
   ]
  },
  {
   "cell_type": "markdown",
   "metadata": {},
   "source": [
    "2018130889 이윤민\n",
    "\n",
    "*for loop:여러 번을 여러 개 해야할 때 for loop 사용한다.\n",
    "\n",
    "for : 어떤 language라도 똑같이 사용. \n",
    "\n",
    "if : 모든 cpu language 똑같이 사용.\n",
    "\n",
    "------------"
   ]
  },
  {
   "cell_type": "markdown",
   "metadata": {},
   "source": [
    "# for loop 써서 print out 하기\n",
    "(a라는 variable속에 들어있는  내용물 하나하나 print out하고 print out은 \"반복되는 행위\"이다. 그것을 우리가 for loop을 사용하여 반복행위를 하는 것)\n",
    "\n",
    "---------------\n",
    "\n",
    "#for loop에 관한 문법: \n",
    "\n",
    "1.for i in a: a에다가 1,2,3,4가 들어있는 list만듦.\n",
    "\n",
    "2.for 형식- for_ in _: 이것이 문법. in 앞뒤로 뭐가 있어야 함.\n",
    "\n",
    "3.in 뒤에있는 것을 하나씩 돌려서 한번한번할때마다 i로 받음. \n",
    "\n",
    "이후에 i가 그 하나하나를 받아서 뭔갈 하라 (무엇을 할지는 for밑에 적어둠.)\n",
    "\n",
    "*for i in a:만 적힌 상태라면 아무 변화도 일어나지 않을 것. 왜냐? 밑에 실행할 함수가 등장하지 않았기 때문이다. 따라서 할 일이 없음.\n",
    "\n",
    "4.print(i)\n",
    "\n",
    "5.for loop은 in 다음것을 먼저 읽어줌.\n",
    "\n",
    "-a속에 있는 것을 처음부터 하나하나씩 불러서 i에 넣음\n",
    "\n",
    "-그것을 가지고 loop 계속 돌아라 (a에 있는 나머지 것들까지 다.) \n",
    "\n",
    "-a의 첫번째 것 1 > 첫번째 loop돌아감 > i가 1을 받음 > 1을 print out.\n",
    "\n",
    "-a의 두번째 것 2 > 2가 i로 들어감... (아까는 i가 1었는데 이제2.)\n",
    "\n",
    "-각각을 다 print out"
   ]
  },
  {
   "cell_type": "code",
   "execution_count": 3,
   "metadata": {},
   "outputs": [
    {
     "name": "stdout",
     "output_type": "stream",
     "text": [
      "1\n",
      "2\n",
      "3\n",
      "4\n"
     ]
    }
   ],
   "source": [
    "a = [1, 2, 3, 4]\n",
    "\n",
    "for i in a:\n",
    "    print(i)\n"
   ]
  },
  {
   "cell_type": "markdown",
   "metadata": {},
   "source": [
    "# Range함수:\n",
    "\n",
    "range뒤에 어떤 숫자가 나오면 list을 만들어줌.\n",
    "\n",
    "ex)4가 들어가면 0부터 3까지의 list을 만들어줌. 4개의 index를 만들어라. (index:0부터 시작 -> 0,1,2,3) (range:0,1,2,3)\n",
    "\n",
    "1.range가 0,1,2,3만들어 줌.\n",
    "\n",
    "2.그게 loop을 돌면서 i가 처음엔 0, \n",
    "\n",
    "*print(a[i]):print a의 i번째 : 첫번째 loop에서 i에 0들어와있음. > a의 0번째를 print out 해라.\n",
    "\n",
    "**결과가 똑같이 나옴.\n",
    "\n",
    "----------------------\n",
    "\n",
    "#For loop 쓰는 두 가지 방법.\n",
    "\n",
    "1.list 그대로 주는 방법:\n",
    "\n",
    "-in 다음에 있는 list 각각의 element을 in 앞에 있는 varaible에 담아주는 것. (list안에 3개가 들어있으면 세번 돈다.)\n",
    "\n",
    "-for loop가 돌면서 for다음에 있는 variable이 계속 바뀐다.\n",
    "\n",
    "\n",
    "2.list을 그대로 쓰는 것이 아니라, range라는 함수를 쓰는 방법 (index를 만들어 주는 것.):\n",
    "\n",
    "-ex)4면 0부터 4개: 0,1,2,3) 그 각각의 index를 i가 받고, a의 그 i번째가 print out 된다.\n"
   ]
  },
  {
   "cell_type": "code",
   "execution_count": 5,
   "metadata": {},
   "outputs": [
    {
     "name": "stdout",
     "output_type": "stream",
     "text": [
      "1\n",
      "2\n",
      "3\n",
      "4\n"
     ]
    }
   ],
   "source": [
    "a = [1, 2, 3, 4]\n",
    "for i in range(4):\n",
    "    print(a[i])"
   ]
  },
  {
   "cell_type": "markdown",
   "metadata": {},
   "source": [
    "만약) print(i)를 한다면? - 0,1,2,3나올 것.\n",
    "\n",
    "이유)range 4라고 하면 0부터 네개의 index를 만드는 것이니깐."
   ]
  },
  {
   "cell_type": "code",
   "execution_count": 6,
   "metadata": {},
   "outputs": [
    {
     "name": "stdout",
     "output_type": "stream",
     "text": [
      "0\n",
      "1\n",
      "2\n",
      "3\n"
     ]
    }
   ],
   "source": [
    "a = [1, 2, 3, 4]\n",
    "for i in range(4):\n",
    "    print(i)"
   ]
  },
  {
   "cell_type": "markdown",
   "metadata": {},
   "source": [
    "range(4)의 4는 우리가 random하게 부여한 것. 다른 것을 넣어볼 수도 있다. \n",
    "ex)이 a의 길이를 넣어주면 되며, list의 길이가 바뀜에 따라 flexible한 결과가 나올 수 있음. "
   ]
  },
  {
   "cell_type": "code",
   "execution_count": 8,
   "metadata": {},
   "outputs": [
    {
     "name": "stdout",
     "output_type": "stream",
     "text": [
      "1\n",
      "2\n",
      "3\n",
      "4\n"
     ]
    }
   ],
   "source": [
    "a = [1, 2, 3, 4]\n",
    "for i in range(len(a)):\n",
    "    print(a[i])"
   ]
  },
  {
   "cell_type": "markdown",
   "metadata": {},
   "source": [
    "*range가 7이면 7개의 index를 0부터 만들어 줘라.\n",
    "\n",
    "*그리고 그것을 (차례대로 각각) for loop를 통해 i가 받음\n",
    "\n",
    "1.제일 첫번째의 loop에서 i는 0. (range가 0~6이니깐) > a의 0번째 출력 -1\n",
    "\n",
    "2.두번째의 loop에서 i는 1. > a의 1번째 출력 > 2"
   ]
  },
  {
   "cell_type": "code",
   "execution_count": 9,
   "metadata": {
    "scrolled": false
   },
   "outputs": [
    {
     "name": "stdout",
     "output_type": "stream",
     "text": [
      "1\n",
      "2\n",
      "3\n",
      "4\n",
      "5\n",
      "6\n",
      "7\n"
     ]
    }
   ],
   "source": [
    "a = [1, 2, 3, 4, 5, 6, 7]\n",
    "for i in range(len(a)):\n",
    "    print(a[i])"
   ]
  },
  {
   "cell_type": "markdown",
   "metadata": {},
   "source": [
    "#str list 만들기 (a가 숫자 list가 아님)\n",
    "\n",
    "-아래의 a는 4개의 str이 들어가있는 list을 가짐.\n",
    "\n",
    "-이걸 가지고 각각 print out하고 싶다.\n",
    "\n",
    "-만약 for loop을 쓰지 않고 각각을 print out 하려면?\n"
   ]
  },
  {
   "cell_type": "code",
   "execution_count": 10,
   "metadata": {},
   "outputs": [
    {
     "name": "stdout",
     "output_type": "stream",
     "text": [
      "red\n",
      "green\n",
      "blue\n",
      "purple\n"
     ]
    }
   ],
   "source": [
    "a = ['red', 'green', 'blue', 'purple']\n",
    "print(a[0])\n",
    "print(a[1])\n",
    "print(a[2])\n",
    "print(a[3])\n"
   ]
  },
  {
   "cell_type": "markdown",
   "metadata": {},
   "source": [
    "4개밖에 안되니까 쉬워보이지만 만약 100만개를 print out하려고 한다면 굉장히 노가다..\n",
    "그래서 그것을 간편하게 하려고 아래와 같이 for loop함수를 사용함.\n",
    "\n",
    "a에 있는 것들을 하나하나씩 i에 담아서 그것을 print out하라.\n",
    "\n",
    "(가장 끝에 : 꼭 필요함.)\n",
    "\n",
    "*for loop의 내용은 반드시 invent되어야 함. 그래야 for loop안에 들어있음을 확인할 수 있음. (문법의 일부)\n",
    "\n",
    "(또 반복해서 설명) a에 있는 list를 그 갯수만큼 for loop돌려봄. for loop 총 네번 돈 것. 그러면서 s variable은 4번 돌면서 바뀜. 바뀌는 족족 print out를 해주기 때문에 아래와 같은 결과 나온다."
   ]
  },
  {
   "cell_type": "code",
   "execution_count": 12,
   "metadata": {},
   "outputs": [
    {
     "name": "stdout",
     "output_type": "stream",
     "text": [
      "red\n",
      "green\n",
      "blue\n",
      "purple\n"
     ]
    }
   ],
   "source": [
    "a = ['red', 'green', 'blue', 'purple']\n",
    "for s in a:\n",
    "    print(s)\n"
   ]
  },
  {
   "cell_type": "markdown",
   "metadata": {},
   "source": [
    "#Range함수 사용해서 똑같은 결과 만들기\n",
    "(위)단순\n",
    "(아래)복잡\n",
    "\n",
    "이렇듯 하는 방법은 무수히 많다.. 창의적으로 할 수 있음."
   ]
  },
  {
   "cell_type": "code",
   "execution_count": 16,
   "metadata": {},
   "outputs": [
    {
     "name": "stdout",
     "output_type": "stream",
     "text": [
      "red\n",
      "green\n",
      "blue\n",
      "purple\n"
     ]
    }
   ],
   "source": [
    "a = ['red', 'green', 'blue', 'purple']\n",
    "for s in range(4):\n",
    "    print(a[s])"
   ]
  },
  {
   "cell_type": "code",
   "execution_count": 18,
   "metadata": {},
   "outputs": [
    {
     "name": "stdout",
     "output_type": "stream",
     "text": [
      "red\n",
      "green\n",
      "blue\n",
      "purple\n"
     ]
    }
   ],
   "source": [
    "a = ['red', 'green', 'blue', 'purple']\n",
    "for s in range(len(a)):\n",
    "    print(a[s])"
   ]
  },
  {
   "cell_type": "markdown",
   "metadata": {},
   "source": [
    "*만약 print(a[s])가 아니라 print(s)만 했다면?\n",
    "\n",
    "1.len(a)는 4\n",
    "\n",
    "2.range(4) - index값 0,1,2,3 네개 만들어짐\n",
    "\n",
    "3.0,1,2,3이 각각 s에 들어감\n",
    "\n",
    "4.print s - 0,1,2,3이라는 숫자가 그대로 print out 됨. "
   ]
  },
  {
   "cell_type": "code",
   "execution_count": 20,
   "metadata": {},
   "outputs": [
    {
     "name": "stdout",
     "output_type": "stream",
     "text": [
      "0\n",
      "1\n",
      "2\n",
      "3\n"
     ]
    }
   ],
   "source": [
    "a = ['red', 'green', 'blue', 'purple']\n",
    "for s in range(len(a)):\n",
    "    print(s)"
   ]
  },
  {
   "cell_type": "markdown",
   "metadata": {},
   "source": [
    "*list 두개 만들어짐 (a-str 4개, b-number 4개. 길이 똑같음)\n",
    "\n",
    "이걸 어떻게 쓸 수 있을까?\n",
    "\n",
    "----------\n",
    "\n",
    "# Enumerate 함수 : (번호 매기는 것)\n",
    "\n",
    "-a의 variable에 list의 변수의 번호를 매긴다.\n",
    "\n",
    "-원래 a는 list로써의 str이 4개 들어있는데, 그것에다 추가로 번호를 매겨 준다.\n",
    "\n",
    "-지금 varaible이 두개있는 상태 (i, s) 이게 차이점 !!\n",
    "\n",
    "-variable도 2개인데다가, enumerate이 번호도 추가로 매겨줌.\n",
    "\n",
    "-enumerate(a) -a에다가 번호까지 있는게 쌍으로(pair) 되어있다(생김).\n",
    "\n",
    "-그것을 각각 i, s로 받는다.\n",
    "\n",
    "*어떤 list에서 enumerate이란 함수를 쓰면 그 output값은 다음과 같은 쌍으로 나온다:\n",
    "1)자기 자신(list), \n",
    "2)그것에 대한 번호 \n",
    "\n",
    "첫번째 loop) i에는 (번호를 매겨준) 0이 들어감, s에는 'red'들어감.\n",
    "\n"
   ]
  },
  {
   "cell_type": "code",
   "execution_count": 23,
   "metadata": {},
   "outputs": [
    {
     "name": "stdout",
     "output_type": "stream",
     "text": [
      "red\n",
      "green\n",
      "blue\n",
      "purple\n"
     ]
    }
   ],
   "source": [
    "a = ['red', 'green', 'blue', 'purple']\n",
    "b = [0.1, 0.3, 0.2, 0.4]\n",
    "\n",
    "for i, s in enumerate(a):\n",
    "    print(a[i])"
   ]
  },
  {
   "cell_type": "markdown",
   "metadata": {},
   "source": [
    "-만약 in 다음에 enumerate사용하지 않고 그냥 a만 있었으면 변수를 두개 사용할 수가 없다. (i나 s중 하나만 사용가능)\n",
    "\n",
    "-enumerate을 사용하면 앞의 변수(i)는 번호, 뒤의 변수(s)는 자기 자신이 된다.\n",
    "\n",
    "-위 상황에서는 s안쓴 것. 어떻게 i가 이용됐는지만 확인했다."
   ]
  },
  {
   "cell_type": "code",
   "execution_count": 24,
   "metadata": {},
   "outputs": [
    {
     "name": "stdout",
     "output_type": "stream",
     "text": [
      "red: 10.0%\n",
      "green: 30.0%\n",
      "blue: 20.0%\n",
      "purple: 40.0%\n"
     ]
    }
   ],
   "source": [
    "a = ['red', 'green', 'blue', 'purple']\n",
    "b = [0.1, 0.3, 0.2, 0.4]\n",
    "\n",
    "for i, s in enumerate(a):\n",
    "    print(\"{}: {}%\".format(s, b[i]*100))"
   ]
  },
  {
   "cell_type": "markdown",
   "metadata": {},
   "source": [
    "-이렇게 우리가 print out하고싶을 때 위와같이 쓴다.\n",
    "\n",
    "-red green blue purple에 대한 값. 다 합쳐서 1이 되는 값을 print out하고 싶을 때 씀.\n",
    "\n",
    "-enumerate할 때 a list를 뿌려주는데, for loop을 돌면서 첫번째 variable에 대해서는 index(번호값)을 받아오고, 두번째 variable에는 list의 각각의 값들을 받음.\n",
    "\n",
    "-for loop을 돌면 이렇게 나옴: 0,red 1,green, 2,blue, 3,purple\n",
    "\n",
    "*format: 이러한 형태의 format으로 적고 싶을때 이렇게 적으면 됨.\n",
    "\n",
    "-\" \" 을 하고, 그 안에다가 내가 꾸려주고 싶은 variable들의 갯수만큼 { }사용.\n",
    "\n",
    "-----------\n",
    "\n",
    "(예시에서 꾸려주고자 하는 것: s와 b[i])\n",
    "\n",
    "-format이라는 함수 속에 s와 b[i]*100이 있음. \n",
    "\n",
    "-이 두개가 두개의 중괄호 속에 각각 꽃힌다. (for loop 돌면서)\n",
    "\n",
    "---------------\n"
   ]
  },
  {
   "cell_type": "markdown",
   "metadata": {},
   "source": [
    "<순서>\n",
    "1.첫번째 for loop에서 i, s가 각각 0과 red을 물고 다음줄로 향함.\n",
    "\n",
    "2.다음줄에서 이런형태로 format하고싶을 때 \n",
    "\" \"안에 { } 넣어주고, .format뒤에는 중괄호안에 들어갈 것을 , 양쪽으로 적어 줌. \n",
    "\n",
    "*format안에 ,로 나뉜 갯수랑 \" \" 안에 들어있는 { } 갯수랑 같아야 함.\n",
    "\n"
   ]
  },
  {
   "cell_type": "code",
   "execution_count": 27,
   "metadata": {},
   "outputs": [
    {
     "name": "stdout",
     "output_type": "stream",
     "text": [
      "red: 10.0%\n",
      "green: 30.0%\n",
      "blue: 20.0%\n",
      "purple: 40.0%\n"
     ]
    }
   ],
   "source": [
    "a = ['red', 'green', 'blue', 'purple']\n",
    "b = [0.1, 0.3, 0.2, 0.4]\n",
    "\n",
    "for s, i in zip(a, b):\n",
    "    print(\"{}: {}%\".format(s, i*100))"
   ]
  },
  {
   "cell_type": "markdown",
   "metadata": {},
   "source": [
    "# Zip: 두개를 세트로 합치는 것\n",
    "\n",
    "(위의 경우에서 a와 b는 길이가 반드시 같은 list이어야 함.)\n",
    " \n",
    "    \n",
    "- 원래 따로 있던 독립적인 list\n",
    "\n",
    "- zip을 함으로써 4개짜리가 pair로 존재. (dictionary처럼) \n",
    "\n",
    "- 그것이 loop을 돈다."
   ]
  },
  {
   "cell_type": "code",
   "execution_count": 30,
   "metadata": {},
   "outputs": [
    {
     "name": "stdout",
     "output_type": "stream",
     "text": [
      "yay\n"
     ]
    }
   ],
   "source": [
    "a = 0\n",
    "if a == 0:\n",
    "    print(\"yay\")"
   ]
  },
  {
   "cell_type": "markdown",
   "metadata": {},
   "source": [
    "# if: ~면 ~하라.\n",
    "\n",
    "if~ 뒤에다 ~에 해당하는 것 넣어주면 됨.\n",
    "\n",
    "= :variable assignment\n",
    "\n",
    "== : 우리가 진짜 아는 equal sign\n",
    "\n",
    "(if 에서 equal sign이나 부등호 자주 씀.)\n",
    "\n",
    "-------\n",
    "\n",
    "\n",
    "if 안에 해당되는 부분이 ~이렇다면 ~일을 해라!\n",
    "\n",
    "(이 일에 해당하는 부분 반드시 indent뒤에 등장해야 유효함)"
   ]
  },
  {
   "cell_type": "code",
   "execution_count": 31,
   "metadata": {},
   "outputs": [],
   "source": [
    "a = 0\n",
    "if a != 0:\n",
    "    print(\"yay\")"
   ]
  },
  {
   "cell_type": "markdown",
   "metadata": {},
   "source": [
    "* != :a가 0이 아니면\n",
    "\n",
    "위 경우에는 따라서 print out이 되지 않는다."
   ]
  },
  {
   "cell_type": "code",
   "execution_count": 35,
   "metadata": {},
   "outputs": [
    {
     "name": "stdout",
     "output_type": "stream",
     "text": [
      "yay\n",
      "let's go\n"
     ]
    }
   ],
   "source": [
    "a = 0\n",
    "if a == 0:\n",
    "    print(\"yay\")\n",
    "    print(\"let's go\")"
   ]
  },
  {
   "cell_type": "markdown",
   "metadata": {},
   "source": [
    "*if의 명령에 해당하는 부분은 indent로 말해줌.\n",
    "\n",
    "*print 여러 개 사용 가능.\n",
    "\n"
   ]
  },
  {
   "cell_type": "code",
   "execution_count": 36,
   "metadata": {},
   "outputs": [
    {
     "name": "stdout",
     "output_type": "stream",
     "text": [
      "yay\n",
      "let's go\n"
     ]
    }
   ],
   "source": [
    "a = 0\n",
    "if a >= 0:\n",
    "    print(\"yay\")\n",
    "    print(\"let's go\")"
   ]
  },
  {
   "cell_type": "markdown",
   "metadata": {},
   "source": [
    "*위와 같이 부등호를 사용해도 됨. "
   ]
  },
  {
   "cell_type": "markdown",
   "metadata": {},
   "source": [
    "----------------------\n",
    "\n",
    "# else: ~하면 ~하고, 그렇지 않으면 ...을 한다\n",
    "\n",
    "-else 뒤에도 반드시 : 을 달아주어야 함.\n"
   ]
  },
  {
   "cell_type": "code",
   "execution_count": 38,
   "metadata": {},
   "outputs": [
    {
     "name": "stdout",
     "output_type": "stream",
     "text": [
      "no\n"
     ]
    }
   ],
   "source": [
    "a = 0\n",
    "if a != 0:\n",
    "    print(\"yay\")\n",
    "    print(\"let's go\")\n",
    "else:\n",
    "    print(\"no\")"
   ]
  },
  {
   "cell_type": "markdown",
   "metadata": {},
   "source": [
    "# For loop을 nested하여 사용:\n",
    "\n",
    "(첫 for loop 100번 도는데, 그 첫번째에서 또 100번 돌고..)\n",
    "\n",
    "Q) 100번 돌아야 할 for loop의 첫번째 loop에서 50번을 돌게 만들면? \n",
    "100번의 loop에서 각 50번의 loop을 돌면?\n",
    "\n",
    "A)총 5000번의 loop을 돌게 된다. (hirareachial 구조)\n",
    "\n",
    "----------\n",
    "\n",
    "ex) range(10) - 0부터 9까지의 index만들어짐.\n",
    "\n",
    "ex) range(1,3) - 1부터 2까지의 index만들어짐. (1부터 3직전까지)\n",
    "\n",
    "*indent 잘 보면 제일 큰 for loop 밑에 또다른 for loop이 nested되고, 그 밑에 또 어떤 명령이 실행되는 것 알 수 있음. \n",
    "\n",
    "*가장 큰 i loop: 총 2번 돎 (1,2)\n",
    "\n",
    "*그 밑의 j loop: 총 2번 돎 (3,4)\n",
    "\n",
    "-1, 2가 따로 들어갈 때 또 각각의 loop가 돈다.\n",
    "\n",
    "각각 두번 x 두번.\n",
    "\n",
    "*그렇다면 print함수는 총 4번 실행됨. -총 4개의 숫자가 print out됨."
   ]
  },
  {
   "cell_type": "code",
   "execution_count": 39,
   "metadata": {},
   "outputs": [
    {
     "name": "stdout",
     "output_type": "stream",
     "text": [
      "3\n",
      "4\n",
      "6\n",
      "8\n"
     ]
    }
   ],
   "source": [
    "for i in range(1,3):\n",
    "    for j in range(3,5):\n",
    "        print(i*j)"
   ]
  },
  {
   "cell_type": "markdown",
   "metadata": {},
   "source": [
    " *print(i)는 두번 돌고, print(i*j)는 네번 돎. (계층적 구조)"
   ]
  },
  {
   "cell_type": "code",
   "execution_count": 42,
   "metadata": {},
   "outputs": [
    {
     "name": "stdout",
     "output_type": "stream",
     "text": [
      "1\n",
      "3\n",
      "4\n",
      "2\n",
      "6\n",
      "8\n"
     ]
    }
   ],
   "source": [
    "for i in range(1,3):\n",
    "    print(i)\n",
    "    for j in range(3,5):\n",
    "        print(i*j)"
   ]
  },
  {
   "cell_type": "markdown",
   "metadata": {},
   "source": [
    "----------\n",
    "*아래의 원리\n",
    "\n",
    "for loop 크게 바깥에서 두번 돌고 (1부터 2까지 i가 바뀌면서),\n",
    "\n",
    "각각의 i에 대해서 j가 두번을 돈다.\n",
    "\n",
    "근데 그것을 단순하게 print하면서 실행하는 것이 아니라,\n",
    "\n",
    "어떨 때만 실행하라는 의미로 if라는 조건을 건다. (조건을 통과해야만 print out 가능)"
   ]
  },
  {
   "cell_type": "code",
   "execution_count": 44,
   "metadata": {},
   "outputs": [
    {
     "name": "stdout",
     "output_type": "stream",
     "text": [
      "4\n",
      "8\n"
     ]
    }
   ],
   "source": [
    "for i in range(1,3):\n",
    "    for j in range(3,5):\n",
    "        if j >=4:\n",
    "            print(i*j)"
   ]
  },
  {
   "cell_type": "markdown",
   "metadata": {},
   "source": [
    "*아래의 경우는 error이다.\n",
    "\n",
    "이유) if다음에 나오는 for이 indent가 되지 않았기 때문. indent가 되어야지만 if에 걸린 for로써 유효하게 된다."
   ]
  },
  {
   "cell_type": "code",
   "execution_count": 45,
   "metadata": {},
   "outputs": [
    {
     "ename": "IndentationError",
     "evalue": "expected an indented block (<ipython-input-45-fd4094b52dd5>, line 3)",
     "output_type": "error",
     "traceback": [
      "\u001b[1;36m  File \u001b[1;32m\"<ipython-input-45-fd4094b52dd5>\"\u001b[1;36m, line \u001b[1;32m3\u001b[0m\n\u001b[1;33m    for j in range(3,5):\u001b[0m\n\u001b[1;37m      ^\u001b[0m\n\u001b[1;31mIndentationError\u001b[0m\u001b[1;31m:\u001b[0m expected an indented block\n"
     ]
    }
   ],
   "source": [
    "for i in range(1,3):\n",
    "    if i >= 3:\n",
    "    for j in range(3,5):\n",
    "        print(i*j)"
   ]
  },
  {
   "cell_type": "markdown",
   "metadata": {},
   "source": [
    "*indent를 한다면 어떻게 될까?\n",
    "\n",
    "결과로는 아무것도 나오지 않는다. i가 3이상이어야만 print out 되기 때문이다. range(1,3)에는 3이 포함되지 않는다.아예 통과불과, 밑에 결과 없음."
   ]
  },
  {
   "cell_type": "code",
   "execution_count": 46,
   "metadata": {},
   "outputs": [],
   "source": [
    "for i in range(1,3):\n",
    "    if i >= 3:\n",
    "        for j in range(3,5):\n",
    "            print(i*j)"
   ]
  },
  {
   "cell_type": "code",
   "execution_count": null,
   "metadata": {},
   "outputs": [],
   "source": []
  }
 ],
 "metadata": {
  "kernelspec": {
   "display_name": "Python 3",
   "language": "python",
   "name": "python3"
  },
  "language_info": {
   "codemirror_mode": {
    "name": "ipython",
    "version": 3
   },
   "file_extension": ".py",
   "mimetype": "text/x-python",
   "name": "python",
   "nbconvert_exporter": "python",
   "pygments_lexer": "ipython3",
   "version": "3.7.3"
  }
 },
 "nbformat": 4,
 "nbformat_minor": 2
}
